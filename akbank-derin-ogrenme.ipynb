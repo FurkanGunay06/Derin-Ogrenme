{
 "cells": [
  {
   "cell_type": "markdown",
   "id": "d7e4b768",
   "metadata": {
    "papermill": {
     "duration": 0.010048,
     "end_time": "2024-10-24T18:17:17.445032",
     "exception": false,
     "start_time": "2024-10-24T18:17:17.434984",
     "status": "completed"
    },
    "tags": []
   },
   "source": [
    "# VERİ SETİNE İLK BAKIŞ VE ÖN İŞLEME"
   ]
  },
  {
   "cell_type": "code",
   "execution_count": 1,
   "id": "cd973cc0",
   "metadata": {
    "execution": {
     "iopub.execute_input": "2024-10-24T18:17:17.462943Z",
     "iopub.status.busy": "2024-10-24T18:17:17.462523Z",
     "iopub.status.idle": "2024-10-24T18:17:19.653301Z",
     "shell.execute_reply": "2024-10-24T18:17:19.652093Z"
    },
    "papermill": {
     "duration": 2.203293,
     "end_time": "2024-10-24T18:17:19.656488",
     "exception": false,
     "start_time": "2024-10-24T18:17:17.453195",
     "status": "completed"
    },
    "tags": []
   },
   "outputs": [
    {
     "name": "stdout",
     "output_type": "stream",
     "text": [
      "                                          image_path            label\n",
      "0  /kaggle/input/a-large-scale-fish-dataset/Fish_...  Hourse Mackerel\n",
      "1  /kaggle/input/a-large-scale-fish-dataset/Fish_...  Hourse Mackerel\n",
      "2  /kaggle/input/a-large-scale-fish-dataset/Fish_...  Hourse Mackerel\n",
      "3  /kaggle/input/a-large-scale-fish-dataset/Fish_...  Hourse Mackerel\n",
      "4  /kaggle/input/a-large-scale-fish-dataset/Fish_...  Hourse Mackerel\n"
     ]
    }
   ],
   "source": [
    "import os\n",
    "import pandas as pd\n",
    "\n",
    "data_dir = \"/kaggle/input/a-large-scale-fish-dataset/Fish_Dataset/\"\n",
    "\n",
    "data = []\n",
    "for root, dirs, files in os.walk(data_dir):\n",
    "    for file in files:\n",
    "        if file.endswith(\".png\"):\n",
    "            image_path = os.path.join(root, file)\n",
    "            label = os.path.basename(root)\n",
    "            data.append([image_path, label])\n",
    "\n",
    "df = pd.DataFrame(data, columns=['image_path', 'label'])\n",
    "print(df.head())\n"
   ]
  },
  {
   "cell_type": "code",
   "execution_count": 2,
   "id": "cfa72207",
   "metadata": {
    "execution": {
     "iopub.execute_input": "2024-10-24T18:17:19.680417Z",
     "iopub.status.busy": "2024-10-24T18:17:19.679680Z",
     "iopub.status.idle": "2024-10-24T18:17:19.693835Z",
     "shell.execute_reply": "2024-10-24T18:17:19.692024Z"
    },
    "papermill": {
     "duration": 0.028609,
     "end_time": "2024-10-24T18:17:19.696542",
     "exception": false,
     "start_time": "2024-10-24T18:17:19.667933",
     "status": "completed"
    },
    "tags": []
   },
   "outputs": [
    {
     "name": "stdout",
     "output_type": "stream",
     "text": [
      "['Hourse Mackerel' 'Hourse Mackerel GT' 'Black Sea Sprat GT'\n",
      " 'Black Sea Sprat' 'Sea Bass' 'Sea Bass GT' 'Red Mullet' 'Red Mullet GT'\n",
      " 'Trout' 'Trout GT' 'Striped Red Mullet GT' 'Striped Red Mullet'\n",
      " 'Shrimp GT' 'Shrimp' 'Gilt-Head Bream GT' 'Gilt-Head Bream'\n",
      " 'Red Sea Bream' 'Red Sea Bream GT']\n"
     ]
    }
   ],
   "source": [
    "# Tüm benzersiz etiketleri görüntüleyelim\n",
    "print(df['label'].unique())\n"
   ]
  },
  {
   "cell_type": "code",
   "execution_count": 3,
   "id": "d9edbd26",
   "metadata": {
    "execution": {
     "iopub.execute_input": "2024-10-24T18:17:19.715840Z",
     "iopub.status.busy": "2024-10-24T18:17:19.714723Z",
     "iopub.status.idle": "2024-10-24T18:17:19.732863Z",
     "shell.execute_reply": "2024-10-24T18:17:19.731689Z"
    },
    "papermill": {
     "duration": 0.030836,
     "end_time": "2024-10-24T18:17:19.735797",
     "exception": false,
     "start_time": "2024-10-24T18:17:19.704961",
     "status": "completed"
    },
    "tags": []
   },
   "outputs": [
    {
     "name": "stdout",
     "output_type": "stream",
     "text": [
      "label\n",
      "Hourse Mackerel          1000\n",
      "Hourse Mackerel GT       1000\n",
      "Red Sea Bream            1000\n",
      "Gilt-Head Bream          1000\n",
      "Gilt-Head Bream GT       1000\n",
      "Shrimp                   1000\n",
      "Shrimp GT                1000\n",
      "Striped Red Mullet       1000\n",
      "Striped Red Mullet GT    1000\n",
      "Trout GT                 1000\n",
      "Trout                    1000\n",
      "Red Mullet GT            1000\n",
      "Red Mullet               1000\n",
      "Sea Bass GT              1000\n",
      "Sea Bass                 1000\n",
      "Black Sea Sprat          1000\n",
      "Black Sea Sprat GT       1000\n",
      "Red Sea Bream GT         1000\n",
      "Name: count, dtype: int64\n"
     ]
    }
   ],
   "source": [
    "print(df['label'].value_counts())"
   ]
  },
  {
   "cell_type": "markdown",
   "id": "7fbc1bb7",
   "metadata": {
    "papermill": {
     "duration": 0.007931,
     "end_time": "2024-10-24T18:17:19.751973",
     "exception": false,
     "start_time": "2024-10-24T18:17:19.744042",
     "status": "completed"
    },
    "tags": []
   },
   "source": [
    "# ANN modeli sayısal verilerle çalıştığı için etiketleri integer değere dönüştürme\n"
   ]
  },
  {
   "cell_type": "code",
   "execution_count": 4,
   "id": "61460299",
   "metadata": {
    "execution": {
     "iopub.execute_input": "2024-10-24T18:17:19.771199Z",
     "iopub.status.busy": "2024-10-24T18:17:19.770778Z",
     "iopub.status.idle": "2024-10-24T18:17:19.788622Z",
     "shell.execute_reply": "2024-10-24T18:17:19.786888Z"
    },
    "papermill": {
     "duration": 0.030094,
     "end_time": "2024-10-24T18:17:19.791197",
     "exception": false,
     "start_time": "2024-10-24T18:17:19.761103",
     "status": "completed"
    },
    "tags": []
   },
   "outputs": [
    {
     "name": "stdout",
     "output_type": "stream",
     "text": [
      "Label Mapping: {'Hourse Mackerel': 0, 'Hourse Mackerel GT': 1, 'Black Sea Sprat GT': 2, 'Black Sea Sprat': 3, 'Sea Bass': 4, 'Sea Bass GT': 5, 'Red Mullet': 6, 'Red Mullet GT': 7, 'Trout': 8, 'Trout GT': 9, 'Striped Red Mullet GT': 10, 'Striped Red Mullet': 11, 'Shrimp GT': 12, 'Shrimp': 13, 'Gilt-Head Bream GT': 14, 'Gilt-Head Bream': 15, 'Red Sea Bream': 16, 'Red Sea Bream GT': 17}\n",
      "                                          image_path  label\n",
      "0  /kaggle/input/a-large-scale-fish-dataset/Fish_...      0\n",
      "1  /kaggle/input/a-large-scale-fish-dataset/Fish_...      0\n",
      "2  /kaggle/input/a-large-scale-fish-dataset/Fish_...      0\n",
      "3  /kaggle/input/a-large-scale-fish-dataset/Fish_...      0\n",
      "4  /kaggle/input/a-large-scale-fish-dataset/Fish_...      0\n"
     ]
    }
   ],
   "source": [
    "# Benzersiz etiketleri integer'a dönüştürmek için mapping oluşturma\n",
    "label_mapping = {label: idx for idx, label in enumerate(df['label'].unique())}\n",
    "\n",
    "# DataFrame'deki etiketleri (label) integer formatına çevirme\n",
    "df['label'] = df['label'].map(label_mapping)\n",
    "\n",
    "# Mapping'i ve güncellenmiş DataFrame'i kontrol edelim\n",
    "print(\"Label Mapping:\", label_mapping)\n",
    "print(df.head())  # Güncellenmiş DataFrame'i görüntüleme\n"
   ]
  },
  {
   "cell_type": "markdown",
   "id": "625a79b5",
   "metadata": {
    "papermill": {
     "duration": 0.008218,
     "end_time": "2024-10-24T18:17:19.807889",
     "exception": false,
     "start_time": "2024-10-24T18:17:19.799671",
     "status": "completed"
    },
    "tags": []
   },
   "source": [
    "# MODEL EĞİTİM AŞAMASI"
   ]
  },
  {
   "cell_type": "markdown",
   "id": "46f7869e",
   "metadata": {
    "papermill": {
     "duration": 0.008016,
     "end_time": "2024-10-24T18:17:19.825751",
     "exception": false,
     "start_time": "2024-10-24T18:17:19.817735",
     "status": "completed"
    },
    "tags": []
   },
   "source": [
    "# Veriyi eğitim ve test olarak bölme"
   ]
  },
  {
   "cell_type": "code",
   "execution_count": 5,
   "id": "32cb9d04",
   "metadata": {
    "execution": {
     "iopub.execute_input": "2024-10-24T18:17:19.844418Z",
     "iopub.status.busy": "2024-10-24T18:17:19.843976Z",
     "iopub.status.idle": "2024-10-24T18:17:21.418314Z",
     "shell.execute_reply": "2024-10-24T18:17:21.417163Z"
    },
    "papermill": {
     "duration": 1.58655,
     "end_time": "2024-10-24T18:17:21.420883",
     "exception": false,
     "start_time": "2024-10-24T18:17:19.834333",
     "status": "completed"
    },
    "tags": []
   },
   "outputs": [
    {
     "name": "stdout",
     "output_type": "stream",
     "text": [
      "Eğitim seti boyutu: 14400\n",
      "Test seti boyutu: 3600\n"
     ]
    }
   ],
   "source": [
    "from sklearn.model_selection import train_test_split\n",
    "\n",
    "train_df, test_df = train_test_split(df, test_size=0.2, stratify=df['label'], random_state=42)\n",
    "\n",
    "# Eğitim ve test setlerinin boyutlarını kontrol edelim\n",
    "print(f\"Eğitim seti boyutu: {len(train_df)}\")\n",
    "print(f\"Test seti boyutu: {len(test_df)}\")\n"
   ]
  },
  {
   "cell_type": "code",
   "execution_count": 6,
   "id": "2e4e49e9",
   "metadata": {
    "execution": {
     "iopub.execute_input": "2024-10-24T18:17:21.439779Z",
     "iopub.status.busy": "2024-10-24T18:17:21.439184Z",
     "iopub.status.idle": "2024-10-24T18:17:36.357226Z",
     "shell.execute_reply": "2024-10-24T18:17:36.355910Z"
    },
    "papermill": {
     "duration": 14.930243,
     "end_time": "2024-10-24T18:17:36.359532",
     "exception": false,
     "start_time": "2024-10-24T18:17:21.429289",
     "status": "completed"
    },
    "tags": []
   },
   "outputs": [
    {
     "name": "stderr",
     "output_type": "stream",
     "text": [
      "/opt/conda/lib/python3.10/site-packages/keras/src/layers/reshaping/flatten.py:37: UserWarning: Do not pass an `input_shape`/`input_dim` argument to a layer. When using Sequential models, prefer using an `Input(shape)` object as the first layer in the model instead.\n",
      "  super().__init__(**kwargs)\n"
     ]
    },
    {
     "data": {
      "text/html": [
       "<pre style=\"white-space:pre;overflow-x:auto;line-height:normal;font-family:Menlo,'DejaVu Sans Mono',consolas,'Courier New',monospace\"><span style=\"font-weight: bold\">Model: \"sequential\"</span>\n",
       "</pre>\n"
      ],
      "text/plain": [
       "\u001b[1mModel: \"sequential\"\u001b[0m\n"
      ]
     },
     "metadata": {},
     "output_type": "display_data"
    },
    {
     "data": {
      "text/html": [
       "<pre style=\"white-space:pre;overflow-x:auto;line-height:normal;font-family:Menlo,'DejaVu Sans Mono',consolas,'Courier New',monospace\">┏━━━━━━━━━━━━━━━━━━━━━━━━━━━━━━━━━┳━━━━━━━━━━━━━━━━━━━━━━━━┳━━━━━━━━━━━━━━━┓\n",
       "┃<span style=\"font-weight: bold\"> Layer (type)                    </span>┃<span style=\"font-weight: bold\"> Output Shape           </span>┃<span style=\"font-weight: bold\">       Param # </span>┃\n",
       "┡━━━━━━━━━━━━━━━━━━━━━━━━━━━━━━━━━╇━━━━━━━━━━━━━━━━━━━━━━━━╇━━━━━━━━━━━━━━━┩\n",
       "│ flatten (<span style=\"color: #0087ff; text-decoration-color: #0087ff\">Flatten</span>)               │ (<span style=\"color: #00d7ff; text-decoration-color: #00d7ff\">None</span>, <span style=\"color: #00af00; text-decoration-color: #00af00\">49152</span>)          │             <span style=\"color: #00af00; text-decoration-color: #00af00\">0</span> │\n",
       "├─────────────────────────────────┼────────────────────────┼───────────────┤\n",
       "│ dense (<span style=\"color: #0087ff; text-decoration-color: #0087ff\">Dense</span>)                   │ (<span style=\"color: #00d7ff; text-decoration-color: #00d7ff\">None</span>, <span style=\"color: #00af00; text-decoration-color: #00af00\">128</span>)            │     <span style=\"color: #00af00; text-decoration-color: #00af00\">6,291,584</span> │\n",
       "├─────────────────────────────────┼────────────────────────┼───────────────┤\n",
       "│ dense_1 (<span style=\"color: #0087ff; text-decoration-color: #0087ff\">Dense</span>)                 │ (<span style=\"color: #00d7ff; text-decoration-color: #00d7ff\">None</span>, <span style=\"color: #00af00; text-decoration-color: #00af00\">64</span>)             │         <span style=\"color: #00af00; text-decoration-color: #00af00\">8,256</span> │\n",
       "├─────────────────────────────────┼────────────────────────┼───────────────┤\n",
       "│ dense_2 (<span style=\"color: #0087ff; text-decoration-color: #0087ff\">Dense</span>)                 │ (<span style=\"color: #00d7ff; text-decoration-color: #00d7ff\">None</span>, <span style=\"color: #00af00; text-decoration-color: #00af00\">18</span>)             │         <span style=\"color: #00af00; text-decoration-color: #00af00\">1,170</span> │\n",
       "└─────────────────────────────────┴────────────────────────┴───────────────┘\n",
       "</pre>\n"
      ],
      "text/plain": [
       "┏━━━━━━━━━━━━━━━━━━━━━━━━━━━━━━━━━┳━━━━━━━━━━━━━━━━━━━━━━━━┳━━━━━━━━━━━━━━━┓\n",
       "┃\u001b[1m \u001b[0m\u001b[1mLayer (type)                   \u001b[0m\u001b[1m \u001b[0m┃\u001b[1m \u001b[0m\u001b[1mOutput Shape          \u001b[0m\u001b[1m \u001b[0m┃\u001b[1m \u001b[0m\u001b[1m      Param #\u001b[0m\u001b[1m \u001b[0m┃\n",
       "┡━━━━━━━━━━━━━━━━━━━━━━━━━━━━━━━━━╇━━━━━━━━━━━━━━━━━━━━━━━━╇━━━━━━━━━━━━━━━┩\n",
       "│ flatten (\u001b[38;5;33mFlatten\u001b[0m)               │ (\u001b[38;5;45mNone\u001b[0m, \u001b[38;5;34m49152\u001b[0m)          │             \u001b[38;5;34m0\u001b[0m │\n",
       "├─────────────────────────────────┼────────────────────────┼───────────────┤\n",
       "│ dense (\u001b[38;5;33mDense\u001b[0m)                   │ (\u001b[38;5;45mNone\u001b[0m, \u001b[38;5;34m128\u001b[0m)            │     \u001b[38;5;34m6,291,584\u001b[0m │\n",
       "├─────────────────────────────────┼────────────────────────┼───────────────┤\n",
       "│ dense_1 (\u001b[38;5;33mDense\u001b[0m)                 │ (\u001b[38;5;45mNone\u001b[0m, \u001b[38;5;34m64\u001b[0m)             │         \u001b[38;5;34m8,256\u001b[0m │\n",
       "├─────────────────────────────────┼────────────────────────┼───────────────┤\n",
       "│ dense_2 (\u001b[38;5;33mDense\u001b[0m)                 │ (\u001b[38;5;45mNone\u001b[0m, \u001b[38;5;34m18\u001b[0m)             │         \u001b[38;5;34m1,170\u001b[0m │\n",
       "└─────────────────────────────────┴────────────────────────┴───────────────┘\n"
      ]
     },
     "metadata": {},
     "output_type": "display_data"
    },
    {
     "data": {
      "text/html": [
       "<pre style=\"white-space:pre;overflow-x:auto;line-height:normal;font-family:Menlo,'DejaVu Sans Mono',consolas,'Courier New',monospace\"><span style=\"font-weight: bold\"> Total params: </span><span style=\"color: #00af00; text-decoration-color: #00af00\">6,301,010</span> (24.04 MB)\n",
       "</pre>\n"
      ],
      "text/plain": [
       "\u001b[1m Total params: \u001b[0m\u001b[38;5;34m6,301,010\u001b[0m (24.04 MB)\n"
      ]
     },
     "metadata": {},
     "output_type": "display_data"
    },
    {
     "data": {
      "text/html": [
       "<pre style=\"white-space:pre;overflow-x:auto;line-height:normal;font-family:Menlo,'DejaVu Sans Mono',consolas,'Courier New',monospace\"><span style=\"font-weight: bold\"> Trainable params: </span><span style=\"color: #00af00; text-decoration-color: #00af00\">6,301,010</span> (24.04 MB)\n",
       "</pre>\n"
      ],
      "text/plain": [
       "\u001b[1m Trainable params: \u001b[0m\u001b[38;5;34m6,301,010\u001b[0m (24.04 MB)\n"
      ]
     },
     "metadata": {},
     "output_type": "display_data"
    },
    {
     "data": {
      "text/html": [
       "<pre style=\"white-space:pre;overflow-x:auto;line-height:normal;font-family:Menlo,'DejaVu Sans Mono',consolas,'Courier New',monospace\"><span style=\"font-weight: bold\"> Non-trainable params: </span><span style=\"color: #00af00; text-decoration-color: #00af00\">0</span> (0.00 B)\n",
       "</pre>\n"
      ],
      "text/plain": [
       "\u001b[1m Non-trainable params: \u001b[0m\u001b[38;5;34m0\u001b[0m (0.00 B)\n"
      ]
     },
     "metadata": {},
     "output_type": "display_data"
    }
   ],
   "source": [
    "import tensorflow as tf\n",
    "from tensorflow.keras.models import Sequential\n",
    "from tensorflow.keras.layers import Dense, Flatten\n",
    "\n",
    "model = Sequential([\n",
    "    Flatten(input_shape=(128, 128, 3)),\n",
    "    Dense(128, activation='relu'),\n",
    "    Dense(64, activation='relu'),\n",
    "    Dense(len(label_mapping), activation='softmax')\n",
    "])\n",
    "\n",
    "model.compile(optimizer='adam',\n",
    "              loss='sparse_categorical_crossentropy',\n",
    "              metrics=['accuracy'])\n",
    "\n",
    "model.summary()\n"
   ]
  },
  {
   "cell_type": "markdown",
   "id": "3bcda761",
   "metadata": {
    "papermill": {
     "duration": 0.009084,
     "end_time": "2024-10-24T18:17:36.378004",
     "exception": false,
     "start_time": "2024-10-24T18:17:36.368920",
     "status": "completed"
    },
    "tags": []
   },
   "source": [
    "# Modeli eğitmek için veri hazırlığı"
   ]
  },
  {
   "cell_type": "code",
   "execution_count": 7,
   "id": "d6d67dee",
   "metadata": {
    "execution": {
     "iopub.execute_input": "2024-10-24T18:17:36.399398Z",
     "iopub.status.busy": "2024-10-24T18:17:36.398297Z",
     "iopub.status.idle": "2024-10-24T18:17:36.531521Z",
     "shell.execute_reply": "2024-10-24T18:17:36.530406Z"
    },
    "papermill": {
     "duration": 0.147059,
     "end_time": "2024-10-24T18:17:36.534436",
     "exception": false,
     "start_time": "2024-10-24T18:17:36.387377",
     "status": "completed"
    },
    "tags": []
   },
   "outputs": [],
   "source": [
    "def process_image(image_path, label):\n",
    "    img = tf.io.read_file(image_path)\n",
    "    img = tf.image.decode_png(img, channels=3)\n",
    "    img = tf.image.resize(img, [128, 128])\n",
    "    img = img / 255.0\n",
    "    return img, label\n",
    "\n",
    "train_dataset = tf.data.Dataset.from_tensor_slices((train_df['image_path'].values, train_df['label'].values))\n",
    "train_dataset = train_dataset.map(process_image).batch(32).shuffle(1000)\n",
    "\n",
    "test_dataset = tf.data.Dataset.from_tensor_slices((test_df['image_path'].values, test_df['label'].values))\n",
    "test_dataset = test_dataset.map(process_image).batch(32)\n"
   ]
  },
  {
   "cell_type": "markdown",
   "id": "6723688a",
   "metadata": {
    "papermill": {
     "duration": 0.00922,
     "end_time": "2024-10-24T18:17:36.553120",
     "exception": false,
     "start_time": "2024-10-24T18:17:36.543900",
     "status": "completed"
    },
    "tags": []
   },
   "source": [
    "# Model Eğitimi"
   ]
  },
  {
   "cell_type": "code",
   "execution_count": 8,
   "id": "17092478",
   "metadata": {
    "execution": {
     "iopub.execute_input": "2024-10-24T18:17:36.573838Z",
     "iopub.status.busy": "2024-10-24T18:17:36.573420Z",
     "iopub.status.idle": "2024-10-24T18:27:46.861195Z",
     "shell.execute_reply": "2024-10-24T18:27:46.859606Z"
    },
    "papermill": {
     "duration": 610.301666,
     "end_time": "2024-10-24T18:27:46.864300",
     "exception": false,
     "start_time": "2024-10-24T18:17:36.562634",
     "status": "completed"
    },
    "tags": []
   },
   "outputs": [
    {
     "name": "stdout",
     "output_type": "stream",
     "text": [
      "Epoch 1/10\n",
      "\u001b[1m450/450\u001b[0m \u001b[32m━━━━━━━━━━━━━━━━━━━━\u001b[0m\u001b[37m\u001b[0m \u001b[1m77s\u001b[0m 73ms/step - accuracy: 0.2926 - loss: 2.5100 - val_accuracy: 0.4761 - val_loss: 1.5029\n",
      "Epoch 2/10\n",
      "\u001b[1m450/450\u001b[0m \u001b[32m━━━━━━━━━━━━━━━━━━━━\u001b[0m\u001b[37m\u001b[0m \u001b[1m56s\u001b[0m 64ms/step - accuracy: 0.5382 - loss: 1.2822 - val_accuracy: 0.6142 - val_loss: 1.0802\n",
      "Epoch 3/10\n",
      "\u001b[1m450/450\u001b[0m \u001b[32m━━━━━━━━━━━━━━━━━━━━\u001b[0m\u001b[37m\u001b[0m \u001b[1m56s\u001b[0m 64ms/step - accuracy: 0.6399 - loss: 0.9823 - val_accuracy: 0.6397 - val_loss: 1.0832\n",
      "Epoch 4/10\n",
      "\u001b[1m450/450\u001b[0m \u001b[32m━━━━━━━━━━━━━━━━━━━━\u001b[0m\u001b[37m\u001b[0m \u001b[1m56s\u001b[0m 64ms/step - accuracy: 0.6915 - loss: 0.8525 - val_accuracy: 0.6769 - val_loss: 0.8952\n",
      "Epoch 5/10\n",
      "\u001b[1m450/450\u001b[0m \u001b[32m━━━━━━━━━━━━━━━━━━━━\u001b[0m\u001b[37m\u001b[0m \u001b[1m56s\u001b[0m 65ms/step - accuracy: 0.7388 - loss: 0.7056 - val_accuracy: 0.7036 - val_loss: 0.8431\n",
      "Epoch 6/10\n",
      "\u001b[1m450/450\u001b[0m \u001b[32m━━━━━━━━━━━━━━━━━━━━\u001b[0m\u001b[37m\u001b[0m \u001b[1m60s\u001b[0m 64ms/step - accuracy: 0.7549 - loss: 0.6618 - val_accuracy: 0.6844 - val_loss: 0.9043\n",
      "Epoch 7/10\n",
      "\u001b[1m450/450\u001b[0m \u001b[32m━━━━━━━━━━━━━━━━━━━━\u001b[0m\u001b[37m\u001b[0m \u001b[1m57s\u001b[0m 64ms/step - accuracy: 0.7782 - loss: 0.6044 - val_accuracy: 0.6931 - val_loss: 0.9546\n",
      "Epoch 8/10\n",
      "\u001b[1m450/450\u001b[0m \u001b[32m━━━━━━━━━━━━━━━━━━━━\u001b[0m\u001b[37m\u001b[0m \u001b[1m81s\u001b[0m 65ms/step - accuracy: 0.8053 - loss: 0.5263 - val_accuracy: 0.7189 - val_loss: 0.7977\n",
      "Epoch 9/10\n",
      "\u001b[1m450/450\u001b[0m \u001b[32m━━━━━━━━━━━━━━━━━━━━\u001b[0m\u001b[37m\u001b[0m \u001b[1m56s\u001b[0m 64ms/step - accuracy: 0.8321 - loss: 0.4514 - val_accuracy: 0.7664 - val_loss: 0.6864\n",
      "Epoch 10/10\n",
      "\u001b[1m450/450\u001b[0m \u001b[32m━━━━━━━━━━━━━━━━━━━━\u001b[0m\u001b[37m\u001b[0m \u001b[1m56s\u001b[0m 64ms/step - accuracy: 0.8489 - loss: 0.4064 - val_accuracy: 0.7347 - val_loss: 0.8419\n"
     ]
    }
   ],
   "source": [
    "history = model.fit(train_dataset, validation_data=test_dataset, epochs=10)\n"
   ]
  },
  {
   "cell_type": "markdown",
   "id": "be70d1af",
   "metadata": {
    "papermill": {
     "duration": 0.289559,
     "end_time": "2024-10-24T18:27:47.447592",
     "exception": false,
     "start_time": "2024-10-24T18:27:47.158033",
     "status": "completed"
    },
    "tags": []
   },
   "source": [
    "# MODELİN DEĞERLENDİRİLMESİ\n"
   ]
  },
  {
   "cell_type": "markdown",
   "id": "0b77d510",
   "metadata": {
    "papermill": {
     "duration": 0.285055,
     "end_time": "2024-10-24T18:27:48.018747",
     "exception": false,
     "start_time": "2024-10-24T18:27:47.733692",
     "status": "completed"
    },
    "tags": []
   },
   "source": [
    "# KAYIP FONKSİYONU VE DOĞRULUK GRAFİĞİ ÇİZME (overfitting kontrolü)"
   ]
  },
  {
   "cell_type": "code",
   "execution_count": 9,
   "id": "b75e3944",
   "metadata": {
    "execution": {
     "iopub.execute_input": "2024-10-24T18:27:48.594359Z",
     "iopub.status.busy": "2024-10-24T18:27:48.593845Z",
     "iopub.status.idle": "2024-10-24T18:27:48.600299Z",
     "shell.execute_reply": "2024-10-24T18:27:48.599248Z"
    },
    "papermill": {
     "duration": 0.296674,
     "end_time": "2024-10-24T18:27:48.602717",
     "exception": false,
     "start_time": "2024-10-24T18:27:48.306043",
     "status": "completed"
    },
    "tags": []
   },
   "outputs": [],
   "source": [
    "import matplotlib.pyplot as plt\n"
   ]
  },
  {
   "cell_type": "code",
   "execution_count": 10,
   "id": "ab0d37e5",
   "metadata": {
    "execution": {
     "iopub.execute_input": "2024-10-24T18:27:49.178202Z",
     "iopub.status.busy": "2024-10-24T18:27:49.177756Z",
     "iopub.status.idle": "2024-10-24T18:27:49.577063Z",
     "shell.execute_reply": "2024-10-24T18:27:49.575669Z"
    },
    "papermill": {
     "duration": 0.691361,
     "end_time": "2024-10-24T18:27:49.580007",
     "exception": false,
     "start_time": "2024-10-24T18:27:48.888646",
     "status": "completed"
    },
    "tags": []
   },
   "outputs": [
    {
     "data": {
      "image/png": "[encoded data removed]",
      "text/plain": [
       "<Figure size 640x480 with 1 Axes>"
      ]
     },
     "metadata": {},
     "output_type": "display_data"
    }
   ],
   "source": [
    "# Kayıp ve doğruluk grafikleri\n",
    "plt.plot(history.history['loss'], label='Eğitim Kaybı')\n",
    "plt.plot(history.history['val_loss'], label='Doğrulama Kaybı')\n",
    "plt.plot(history.history['accuracy'], label='Eğitim Doğruluğu')\n",
    "plt.plot(history.history['val_accuracy'], label='Doğrulama Doğruluğu')\n",
    "plt.xlabel('Epoch')\n",
    "plt.ylabel('Değer')\n",
    "plt.legend()\n",
    "plt.show()\n"
   ]
  },
  {
   "cell_type": "markdown",
   "id": "ebb30f74",
   "metadata": {
    "papermill": {
     "duration": 0.345428,
     "end_time": "2024-10-24T18:27:50.217089",
     "exception": false,
     "start_time": "2024-10-24T18:27:49.871661",
     "status": "completed"
    },
    "tags": []
   },
   "source": [
    "# Yukarıdaki grafiği incelediğimizde overfitting'in gerçekleşmediğini gözlemleyebiliriz\n",
    "\n",
    "# 1.Eğitim ve doğrulama kayıpları birlikte azalıyor.\n",
    "# 2.Eğitim ve doğrulama doğruluğu dengeli bir şekilde artıyor.\n",
    "# 3.Doğrulama kaybında küçük dalgalanmalar var, ancak bu normal kabul edilir**"
   ]
  },
  {
   "cell_type": "markdown",
   "id": "6282761e",
   "metadata": {
    "papermill": {
     "duration": 0.287584,
     "end_time": "2024-10-24T18:27:50.794474",
     "exception": false,
     "start_time": "2024-10-24T18:27:50.506890",
     "status": "completed"
    },
    "tags": []
   },
   "source": [
    "# Confusion Matrix ve Classification Report"
   ]
  },
  {
   "cell_type": "code",
   "execution_count": 11,
   "id": "701cd491",
   "metadata": {
    "execution": {
     "iopub.execute_input": "2024-10-24T18:27:51.370182Z",
     "iopub.status.busy": "2024-10-24T18:27:51.369768Z",
     "iopub.status.idle": "2024-10-24T18:28:05.756136Z",
     "shell.execute_reply": "2024-10-24T18:28:05.755021Z"
    },
    "papermill": {
     "duration": 14.67828,
     "end_time": "2024-10-24T18:28:05.759334",
     "exception": false,
     "start_time": "2024-10-24T18:27:51.081054",
     "status": "completed"
    },
    "tags": []
   },
   "outputs": [
    {
     "name": "stdout",
     "output_type": "stream",
     "text": [
      "\u001b[1m113/113\u001b[0m \u001b[32m━━━━━━━━━━━━━━━━━━━━\u001b[0m\u001b[37m\u001b[0m \u001b[1m7s\u001b[0m 65ms/step\n",
      "Confusion Matrix:\n",
      "[[195   0   0   0   0   0   0   0   3   0   0   0   0   0   0   0   2   0]\n",
      " [  0 126  27   0   0   5   0  16   0   9  13   0   3   0   1   0   0   0]\n",
      " [  0   5 139   0   0   6   0  12   0   1  11   0  26   0   0   0   0   0]\n",
      " [ 21   0   0 164   0   0   0   0   8   0   0   5   0   0   0   0   2   0]\n",
      " [ 16   0   0  13 136   0   7   0   5   0   0   9   0   3   0   7   4   0]\n",
      " [  0  13   8   0   0 142   0  12   0   7  13   0   5   0   0   0   0   0]\n",
      " [  4   0   0   0   0   0 169   0   0   0   0   5   0   7   0  14   1   0]\n",
      " [  0  15  32   0   0  10   0 104   0   4  12   0  22   0   1   0   0   0]\n",
      " [ 13   0   0   3   3   0   0   0 171   0   0   3   0   0   0   6   1   0]\n",
      " [  0  15   0   0   0  23   1   0   0 130   2   0   1   0  22   0   0   6]\n",
      " [  0  12  44   0   0  11   0  11   0   0 106   0  16   0   0   0   0   0]\n",
      " [  8   0   0   3   0   0   0   0  10   0   0 163   0   0   0   3  13   0]\n",
      " [  0   0  20   0   0   2   0   7   0   0   7   0 164   0   0   0   0   0]\n",
      " [ 14   0   0   0   1   0   2   0   0   0   0  30   0 152   0   1   0   0]\n",
      " [  0   8   0   0   0   8   0   0   0  39   0   0   0   0 138   0   0   7]\n",
      " [  4   0   0   0   1   0   0   0   2   0   0   7   0   0   0 186   0   0]\n",
      " [  7   0   0   0   0   0   0   0   3   0   0   3   0   0   0   0 187   0]\n",
      " [  1   7   0   0   0   4   0   1   0  47   1   0   0   0  66   0   0  73]]\n",
      "\n",
      "Classification Report:\n",
      "              precision    recall  f1-score   support\n",
      "\n",
      "           0       0.69      0.97      0.81       200\n",
      "           1       0.63      0.63      0.63       200\n",
      "           2       0.51      0.69      0.59       200\n",
      "           3       0.90      0.82      0.86       200\n",
      "           4       0.96      0.68      0.80       200\n",
      "           5       0.67      0.71      0.69       200\n",
      "           6       0.94      0.84      0.89       200\n",
      "           7       0.64      0.52      0.57       200\n",
      "           8       0.85      0.85      0.85       200\n",
      "           9       0.55      0.65      0.59       200\n",
      "          10       0.64      0.53      0.58       200\n",
      "          11       0.72      0.81      0.77       200\n",
      "          12       0.69      0.82      0.75       200\n",
      "          13       0.94      0.76      0.84       200\n",
      "          14       0.61      0.69      0.64       200\n",
      "          15       0.86      0.93      0.89       200\n",
      "          16       0.89      0.94      0.91       200\n",
      "          17       0.85      0.36      0.51       200\n",
      "\n",
      "    accuracy                           0.73      3600\n",
      "   macro avg       0.75      0.73      0.73      3600\n",
      "weighted avg       0.75      0.73      0.73      3600\n",
      "\n"
     ]
    }
   ],
   "source": [
    "from sklearn.metrics import classification_report, confusion_matrix\n",
    "import numpy as np\n",
    "\n",
    "# Test setindeki tahminleri alıyoruz\n",
    "y_true = np.concatenate([y for x, y in test_dataset], axis=0)\n",
    "y_pred = np.argmax(model.predict(test_dataset), axis=1)\n",
    "\n",
    "# Confusion matrix ve classification report\n",
    "print(\"Confusion Matrix:\")\n",
    "print(confusion_matrix(y_true, y_pred))\n",
    "\n",
    "print(\"\\nClassification Report:\")\n",
    "print(classification_report(y_true, y_pred))\n"
   ]
  },
  {
   "cell_type": "markdown",
   "id": "9bd2b5bc",
   "metadata": {
    "papermill": {
     "duration": 0.300696,
     "end_time": "2024-10-24T18:28:06.362477",
     "exception": false,
     "start_time": "2024-10-24T18:28:06.061781",
     "status": "completed"
    },
    "tags": []
   },
   "source": [
    "# Hiperparametre Optimizasyonu"
   ]
  },
  {
   "cell_type": "markdown",
   "id": "8954ae5a",
   "metadata": {
    "papermill": {
     "duration": 0.296377,
     "end_time": "2024-10-24T18:28:06.954195",
     "exception": false,
     "start_time": "2024-10-24T18:28:06.657818",
     "status": "completed"
    },
    "tags": []
   },
   "source": [
    "Hiperparametre optimizasyonu uzun sürdüğü için rastgele 5 arama ile sınırlandırılmıştır"
   ]
  },
  {
   "cell_type": "code",
   "execution_count": 12,
   "id": "cbe6fa5c",
   "metadata": {
    "execution": {
     "iopub.execute_input": "2024-10-24T18:28:07.611095Z",
     "iopub.status.busy": "2024-10-24T18:28:07.610639Z",
     "iopub.status.idle": "2024-10-24T18:50:38.256449Z",
     "shell.execute_reply": "2024-10-24T18:50:38.255339Z"
    },
    "papermill": {
     "duration": 1351.246053,
     "end_time": "2024-10-24T18:50:38.555308",
     "exception": false,
     "start_time": "2024-10-24T18:28:07.309255",
     "status": "completed"
    },
    "tags": []
   },
   "outputs": [
    {
     "name": "stdout",
     "output_type": "stream",
     "text": [
      "Testing: layers=3, nodes=128, optimizer=adam, dropout=0.3, learning_rate=0.001, epochs=15, batch_size=16\n"
     ]
    },
    {
     "name": "stderr",
     "output_type": "stream",
     "text": [
      "/opt/conda/lib/python3.10/site-packages/keras/src/layers/reshaping/flatten.py:37: UserWarning: Do not pass an `input_shape`/`input_dim` argument to a layer. When using Sequential models, prefer using an `Input(shape)` object as the first layer in the model instead.\n",
      "  super().__init__(**kwargs)\n"
     ]
    },
    {
     "name": "stdout",
     "output_type": "stream",
     "text": [
      "Testing: layers=2, nodes=128, optimizer=rmsprop, dropout=0.2, learning_rate=0.0005, epochs=15, batch_size=32\n",
      "Testing: layers=3, nodes=128, optimizer=rmsprop, dropout=0.2, learning_rate=0.001, epochs=15, batch_size=16\n",
      "Testing: layers=3, nodes=256, optimizer=adam, dropout=0.3, learning_rate=0.0005, epochs=15, batch_size=32\n",
      "Testing: layers=2, nodes=128, optimizer=rmsprop, dropout=0.2, learning_rate=0.0005, epochs=15, batch_size=32\n",
      "En iyi doğruluk: 35.25%\n",
      "En iyi parametreler: {'layers': 2, 'nodes': 128, 'optimizer': 'rmsprop', 'dropout_rate': 0.2, 'learning_rate': 0.0005, 'epochs': 15, 'batch_size': 32}\n"
     ]
    }
   ],
   "source": [
    "import random\n",
    "from tensorflow.keras.callbacks import EarlyStopping\n",
    "from tensorflow.keras.models import Sequential\n",
    "from tensorflow.keras.layers import Dense, Dropout, Flatten\n",
    "from tensorflow.keras.optimizers import Adam, RMSprop\n",
    "\n",
    "# Model oluşturma fonksiyonu\n",
    "def build_model(layers=2, nodes=128, optimizer_name='adam', dropout_rate=0.2, lr=0.001):\n",
    "    model = Sequential()\n",
    "    model.add(Flatten(input_shape=(128, 128, 3)))\n",
    "\n",
    "    for _ in range(layers):\n",
    "        model.add(Dense(nodes, activation='relu'))\n",
    "        model.add(Dropout(dropout_rate))\n",
    "\n",
    "    model.add(Dense(len(label_mapping), activation='softmax'))\n",
    "\n",
    "    optimizer = Adam(learning_rate=lr) if optimizer_name == 'adam' else RMSprop(learning_rate=lr)\n",
    "\n",
    "    model.compile(optimizer=optimizer, loss='sparse_categorical_crossentropy', metrics=['accuracy'])\n",
    "    return model\n",
    "\n",
    "# Hiperparametre seçenekleri\n",
    "layer_options = [2, 3]\n",
    "node_options = [128, 256]\n",
    "optimizer_names = ['adam', 'rmsprop']\n",
    "dropout_rates = [0.2, 0.3]\n",
    "learning_rates = [0.001, 0.0005]\n",
    "epochs = [10, 15]\n",
    "batch_sizes = [16, 32]\n",
    "\n",
    "early_stopping = EarlyStopping(monitor='val_loss', patience=2, restore_best_weights=True)\n",
    "\n",
    "best_accuracy = 0\n",
    "best_params = {}\n",
    "\n",
    "for _ in range(5):  # 5 rastgele kombinasyon\n",
    "    layers = random.choice(layer_options)\n",
    "    nodes = random.choice(node_options)\n",
    "    optimizer_name = random.choice(optimizer_names)\n",
    "    dropout_rate = random.choice(dropout_rates)\n",
    "    lr = random.choice(learning_rates)\n",
    "    epoch = random.choice(epochs)\n",
    "    batch_size = random.choice(batch_sizes)\n",
    "\n",
    "    print(f\"Testing: layers={layers}, nodes={nodes}, optimizer={optimizer_name}, \"\n",
    "          f\"dropout={dropout_rate}, learning_rate={lr}, epochs={epoch}, batch_size={batch_size}\")\n",
    "\n",
    "    model = build_model(layers, nodes, optimizer_name, dropout_rate, lr)\n",
    "    history = model.fit(train_dataset, validation_data=test_dataset,\n",
    "                        epochs=epoch, batch_size=batch_size, verbose=0, callbacks=[early_stopping])\n",
    "\n",
    "    val_accuracy = max(history.history['val_accuracy'])\n",
    "\n",
    "    if val_accuracy > best_accuracy:\n",
    "        best_accuracy = val_accuracy\n",
    "        best_params = {\n",
    "            'layers': layers,\n",
    "            'nodes': nodes,\n",
    "            'optimizer': optimizer_name,\n",
    "            'dropout_rate': dropout_rate,\n",
    "            'learning_rate': lr,\n",
    "            'epochs': epoch,\n",
    "            'batch_size': batch_size\n",
    "        }\n",
    "\n",
    "print(f\"En iyi doğruluk: {best_accuracy * 100:.2f}%\")\n",
    "print(f\"En iyi parametreler: {best_params}\")\n"
   ]
  },
  {
   "cell_type": "markdown",
   "id": "a3f7b81c",
   "metadata": {
    "papermill": {
     "duration": 0.297885,
     "end_time": "2024-10-24T18:50:39.150181",
     "exception": false,
     "start_time": "2024-10-24T18:50:38.852296",
     "status": "completed"
    },
    "tags": []
   },
   "source": [
    "Doğruluğun %50 civarında kalmasının nedeni, hiperparametre optimizasyon sürecinde yalnızca 5 rastgele kombinasyon denenmiş olmasıdır. Daha fazla parametre kombinasyonu denenemediği için model, optimal ayarları bulamamış olabilir. Ayrıca epoch sayısının düşük tutulması veya veri kümesinin karmaşıklığı da model performansını sınırlamış olabilir. Eğer daha fazla kombinasyon ve epoch ile deneme yapılırsa doğruluk oranının artması beklenir."
   ]
  },
  {
   "cell_type": "code",
   "execution_count": null,
   "id": "e55d5bc8",
   "metadata": {
    "papermill": {
     "duration": 0.379577,
     "end_time": "2024-10-24T18:50:39.828327",
     "exception": false,
     "start_time": "2024-10-24T18:50:39.448750",
     "status": "completed"
    },
    "tags": []
   },
   "outputs": [],
   "source": []
  }
 ],
 "metadata": {
  "kaggle": {
   "accelerator": "none",
   "dataSources": [
    {
     "datasetId": 1165452,
     "sourceId": 2170465,
     "sourceType": "datasetVersion"
    }
   ],
   "dockerImageVersionId": 30786,
   "isGpuEnabled": false,
   "isInternetEnabled": true,
   "language": "python",
   "sourceType": "notebook"
  },
  "kernelspec": {
   "display_name": "Python 3",
   "language": "python",
   "name": "python3"
  },
  "language_info": {
   "codemirror_mode": {
    "name": "ipython",
    "version": 3
   },
   "file_extension": ".py",
   "mimetype": "text/x-python",
   "name": "python",
   "nbconvert_exporter": "python",
   "pygments_lexer": "ipython3",
   "version": "3.10.14"
  },
  "papermill": {
   "default_parameters": {},
   "duration": 2008.743274,
   "end_time": "2024-10-24T18:50:43.111241",
   "environment_variables": {},
   "exception": null,
   "input_path": "__notebook__.ipynb",
   "output_path": "__notebook__.ipynb",
   "parameters": {},
   "start_time": "2024-10-24T18:17:14.367967",
   "version": "2.6.0"
  }
 },
 "nbformat": 4,
 "nbformat_minor": 5
}
